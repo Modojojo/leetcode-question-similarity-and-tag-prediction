{
 "cells": [
  {
   "cell_type": "markdown",
   "id": "936bdcff",
   "metadata": {},
   "source": [
    "# Leetcode - similar problem and topic tag prediction\n",
    "\n",
    "## 2. Predicting if two problems are similar or not"
   ]
  },
  {
   "cell_type": "code",
   "execution_count": 78,
   "id": "0895d15b",
   "metadata": {},
   "outputs": [],
   "source": [
    "import pandas as pd\n",
    "import numpy as np\n",
    "import nltk\n",
    "data = pd.read_csv('similar_question_data_with_topics.csv')"
   ]
  },
  {
   "cell_type": "code",
   "execution_count": 79,
   "id": "37482d8f",
   "metadata": {},
   "outputs": [
    {
     "data": {
      "text/html": [
       "<div>\n",
       "<style scoped>\n",
       "    .dataframe tbody tr th:only-of-type {\n",
       "        vertical-align: middle;\n",
       "    }\n",
       "\n",
       "    .dataframe tbody tr th {\n",
       "        vertical-align: top;\n",
       "    }\n",
       "\n",
       "    .dataframe thead th {\n",
       "        text-align: right;\n",
       "    }\n",
       "</style>\n",
       "<table border=\"1\" class=\"dataframe\">\n",
       "  <thead>\n",
       "    <tr style=\"text-align: right;\">\n",
       "      <th></th>\n",
       "      <th>q1id</th>\n",
       "      <th>q2id</th>\n",
       "      <th>question1</th>\n",
       "      <th>question2</th>\n",
       "      <th>q1_topics</th>\n",
       "      <th>q2_topics</th>\n",
       "      <th>target</th>\n",
       "    </tr>\n",
       "  </thead>\n",
       "  <tbody>\n",
       "    <tr>\n",
       "      <th>0</th>\n",
       "      <td>88</td>\n",
       "      <td>1019</td>\n",
       "      <td>You are given two integer arrays nums1 and num...</td>\n",
       "      <td>Given an integer array nums sorted in non-decr...</td>\n",
       "      <td>Array,Two Pointers,Sorting</td>\n",
       "      <td>Array,Two Pointers,Sorting</td>\n",
       "      <td>1</td>\n",
       "    </tr>\n",
       "    <tr>\n",
       "      <th>1</th>\n",
       "      <td>724</td>\n",
       "      <td>2102</td>\n",
       "      <td>Given an array of integers nums, calculate the...</td>\n",
       "      <td>Given a 0-indexed integer array nums, find the...</td>\n",
       "      <td>Array,Prefix Sum</td>\n",
       "      <td>Array,Prefix Sum</td>\n",
       "      <td>1</td>\n",
       "    </tr>\n",
       "    <tr>\n",
       "      <th>2</th>\n",
       "      <td>967</td>\n",
       "      <td>1022</td>\n",
       "      <td>Given an n x n array of integers matrix, retur...</td>\n",
       "      <td>You are given an m x n integer array grid wher...</td>\n",
       "      <td>Array,Dynamic Programming,Matrix</td>\n",
       "      <td>Array,Backtracking,Bit Manipulation,Matrix</td>\n",
       "      <td>0</td>\n",
       "    </tr>\n",
       "    <tr>\n",
       "      <th>3</th>\n",
       "      <td>300</td>\n",
       "      <td>673</td>\n",
       "      <td>Given an integer array nums, return the length...</td>\n",
       "      <td>Given an integer array nums, return the number...</td>\n",
       "      <td>Array,Binary Search,Dynamic Programming</td>\n",
       "      <td>Array,Dynamic Programming,Binary Indexed Tree,...</td>\n",
       "      <td>1</td>\n",
       "    </tr>\n",
       "    <tr>\n",
       "      <th>4</th>\n",
       "      <td>2280</td>\n",
       "      <td>334</td>\n",
       "      <td>You are given two 0-indexed arrays nums1 and n...</td>\n",
       "      <td>Given an integer array nums, return true if th...</td>\n",
       "      <td>Array,Binary Search,Divide and Conquer,Binary ...</td>\n",
       "      <td>Array,Greedy</td>\n",
       "      <td>1</td>\n",
       "    </tr>\n",
       "    <tr>\n",
       "      <th>...</th>\n",
       "      <td>...</td>\n",
       "      <td>...</td>\n",
       "      <td>...</td>\n",
       "      <td>...</td>\n",
       "      <td>...</td>\n",
       "      <td>...</td>\n",
       "      <td>...</td>\n",
       "    </tr>\n",
       "    <tr>\n",
       "      <th>3147</th>\n",
       "      <td>462</td>\n",
       "      <td>453</td>\n",
       "      <td>Given an integer array nums of size n, return ...</td>\n",
       "      <td>Given an integer array nums of size n, return ...</td>\n",
       "      <td>Array,Math,Sorting</td>\n",
       "      <td>Array,Math</td>\n",
       "      <td>1</td>\n",
       "    </tr>\n",
       "    <tr>\n",
       "      <th>3148</th>\n",
       "      <td>2076</td>\n",
       "      <td>258</td>\n",
       "      <td>You are given a string s consisting of lowerca...</td>\n",
       "      <td>Given an integer num, repeatedly add all its d...</td>\n",
       "      <td>String,Simulation</td>\n",
       "      <td>Math,Simulation,Number Theory</td>\n",
       "      <td>1</td>\n",
       "    </tr>\n",
       "    <tr>\n",
       "      <th>3149</th>\n",
       "      <td>1008</td>\n",
       "      <td>162</td>\n",
       "      <td>You are given the root of a binary tree. We in...</td>\n",
       "      <td>A peak element is an element that is strictly ...</td>\n",
       "      <td>Dynamic Programming,Tree,Depth-First Search,Bi...</td>\n",
       "      <td>Array,Binary Search</td>\n",
       "      <td>0</td>\n",
       "    </tr>\n",
       "    <tr>\n",
       "      <th>3150</th>\n",
       "      <td>2216</td>\n",
       "      <td>143</td>\n",
       "      <td>You are given the head of a linked list. Delet...</td>\n",
       "      <td>You are given the head of a singly linked-list...</td>\n",
       "      <td>Linked List,Two Pointers</td>\n",
       "      <td>Linked List,Two Pointers,Stack,Recursion</td>\n",
       "      <td>1</td>\n",
       "    </tr>\n",
       "    <tr>\n",
       "      <th>3151</th>\n",
       "      <td>437</td>\n",
       "      <td>1986</td>\n",
       "      <td>Given the root of a binary tree and an integer...</td>\n",
       "      <td>There is a directed graph of n colored nodes a...</td>\n",
       "      <td>Tree,Depth-First Search,Binary Tree</td>\n",
       "      <td>Hash Table,Dynamic Programming,Graph,Topologic...</td>\n",
       "      <td>0</td>\n",
       "    </tr>\n",
       "  </tbody>\n",
       "</table>\n",
       "<p>3152 rows × 7 columns</p>\n",
       "</div>"
      ],
      "text/plain": [
       "      q1id  q2id                                          question1  \\\n",
       "0       88  1019  You are given two integer arrays nums1 and num...   \n",
       "1      724  2102  Given an array of integers nums, calculate the...   \n",
       "2      967  1022  Given an n x n array of integers matrix, retur...   \n",
       "3      300   673  Given an integer array nums, return the length...   \n",
       "4     2280   334  You are given two 0-indexed arrays nums1 and n...   \n",
       "...    ...   ...                                                ...   \n",
       "3147   462   453  Given an integer array nums of size n, return ...   \n",
       "3148  2076   258  You are given a string s consisting of lowerca...   \n",
       "3149  1008   162  You are given the root of a binary tree. We in...   \n",
       "3150  2216   143  You are given the head of a linked list. Delet...   \n",
       "3151   437  1986  Given the root of a binary tree and an integer...   \n",
       "\n",
       "                                              question2  \\\n",
       "0     Given an integer array nums sorted in non-decr...   \n",
       "1     Given a 0-indexed integer array nums, find the...   \n",
       "2     You are given an m x n integer array grid wher...   \n",
       "3     Given an integer array nums, return the number...   \n",
       "4     Given an integer array nums, return true if th...   \n",
       "...                                                 ...   \n",
       "3147  Given an integer array nums of size n, return ...   \n",
       "3148  Given an integer num, repeatedly add all its d...   \n",
       "3149  A peak element is an element that is strictly ...   \n",
       "3150  You are given the head of a singly linked-list...   \n",
       "3151  There is a directed graph of n colored nodes a...   \n",
       "\n",
       "                                              q1_topics  \\\n",
       "0                            Array,Two Pointers,Sorting   \n",
       "1                                      Array,Prefix Sum   \n",
       "2                      Array,Dynamic Programming,Matrix   \n",
       "3               Array,Binary Search,Dynamic Programming   \n",
       "4     Array,Binary Search,Divide and Conquer,Binary ...   \n",
       "...                                                 ...   \n",
       "3147                                 Array,Math,Sorting   \n",
       "3148                                  String,Simulation   \n",
       "3149  Dynamic Programming,Tree,Depth-First Search,Bi...   \n",
       "3150                           Linked List,Two Pointers   \n",
       "3151                Tree,Depth-First Search,Binary Tree   \n",
       "\n",
       "                                              q2_topics  target  \n",
       "0                            Array,Two Pointers,Sorting       1  \n",
       "1                                      Array,Prefix Sum       1  \n",
       "2            Array,Backtracking,Bit Manipulation,Matrix       0  \n",
       "3     Array,Dynamic Programming,Binary Indexed Tree,...       1  \n",
       "4                                          Array,Greedy       1  \n",
       "...                                                 ...     ...  \n",
       "3147                                         Array,Math       1  \n",
       "3148                      Math,Simulation,Number Theory       1  \n",
       "3149                                Array,Binary Search       0  \n",
       "3150           Linked List,Two Pointers,Stack,Recursion       1  \n",
       "3151  Hash Table,Dynamic Programming,Graph,Topologic...       0  \n",
       "\n",
       "[3152 rows x 7 columns]"
      ]
     },
     "execution_count": 79,
     "metadata": {},
     "output_type": "execute_result"
    }
   ],
   "source": [
    "data.drop('Unnamed: 0', axis=1, inplace=True)\n",
    "data"
   ]
  },
  {
   "cell_type": "code",
   "execution_count": 80,
   "id": "708b0507",
   "metadata": {},
   "outputs": [],
   "source": [
    "df = data.copy()"
   ]
  },
  {
   "cell_type": "markdown",
   "id": "90165e1b",
   "metadata": {},
   "source": [
    "## Preprocessing"
   ]
  },
  {
   "cell_type": "code",
   "execution_count": 81,
   "id": "931a024f",
   "metadata": {},
   "outputs": [
    {
     "data": {
      "text/plain": [
       "'given integer array nums sorted nondecreasing order return array squares number sorted nondecreasing order'"
      ]
     },
     "execution_count": 81,
     "metadata": {},
     "output_type": "execute_result"
    }
   ],
   "source": [
    "# Removing punctuations \n",
    "\n",
    "import re\n",
    "from nltk.tokenize import word_tokenize, sent_tokenize\n",
    "from nltk.corpus import stopwords\n",
    "from string import punctuation\n",
    "\n",
    "stopwords = stopwords.words('english')\n",
    "punctuation = list(punctuation)\n",
    "\n",
    "\n",
    "## Removing hyperlinks and other irrelevant tokens\n",
    "def remove_unimp_tokens(data):\n",
    "    retvar = []\n",
    "    for text in data:\n",
    "        text = text.split(\" \");\n",
    "        text = [i for i in text if not (i.startswith(\"https\"))]\n",
    "        text = [i for i in text if not ('\\\\' in i)]\n",
    "        text = \" \".join(text)\n",
    "        retvar.append(text)\n",
    "    return retvar\n",
    "\n",
    "\n",
    "def basic_preprocessor(data):\n",
    "    regexp_space = [r'\\.', r'\\[.\\]']\n",
    "    sentences_retvar = []\n",
    "    for text in data:\n",
    "        for pattern in regexp_space:\n",
    "            p = re.compile(pattern)\n",
    "            text = p.sub(\" \", text)\n",
    "        p = re.compile(r'= ')\n",
    "        text = p.sub(\"=\", text)\n",
    "        p = re.compile(r'[^a-zA-Z ]+')\n",
    "        text = re.sub(p, '', text)\n",
    "        p = re.compile(r'&lt')\n",
    "        text = p.sub(\" less than \", text)\n",
    "        p = re.compile(r'&gt')\n",
    "        text = p.sub(\" greater than \", text)\n",
    "        sentences_retvar.append(text)\n",
    "    return sentences_retvar\n",
    "\n",
    "\n",
    "def remove_stopwords_punctuations(data, stopwords, punctuation):\n",
    "    processed_sentences = []\n",
    "    for sentence in data:\n",
    "        words_tokenized = word_tokenize(sentence)\n",
    "        cleaned_tokens = [token for token in words_tokenized if token not in stopwords and token not in punctuation]\n",
    "        sentence = \" \".join(cleaned_tokens)\n",
    "        processed_sentences.append(sentence)\n",
    "        \n",
    "    return processed_sentences\n",
    "\n",
    "\n",
    "def post_processing(data):\n",
    "    retvar = []\n",
    "    for line in data:\n",
    "        line = re.sub('arr\\s+', 'arr', line)\n",
    "        retvar.append(line)\n",
    "    return retvar\n",
    "\n",
    "def remove_single_characters(data):\n",
    "    retvar = []\n",
    "    for text in data:\n",
    "        text = text.split(\" \");\n",
    "        text = [i for i in text if not len(i) == 1]\n",
    "        text = \" \".join(text)\n",
    "        retvar.append(text)\n",
    "    return retvar\n",
    "\n",
    "def lowercase(data):\n",
    "    retvar = []\n",
    "    for text in data:\n",
    "        text = text.lower()\n",
    "        retvar.append(text)\n",
    "    return retvar\n",
    "\n",
    "temp = basic_preprocessor(temp)\n",
    "temp = remove_stopwords_punctuations(temp, stopwords, punctuation)\n",
    "temp = post_processing(temp)\n",
    "temp = remove_single_characters(temp)\n",
    "temp = lowercase(temp)\n",
    "\n",
    "temp[0]"
   ]
  },
  {
   "cell_type": "code",
   "execution_count": 82,
   "id": "aad6a4ef",
   "metadata": {},
   "outputs": [],
   "source": [
    "# Converting data for question1 column\n",
    "temp = basic_preprocessor(df['question1'])\n",
    "temp = remove_stopwords_punctuations(temp, stopwords, punctuation)\n",
    "temp = post_processing(temp)\n",
    "temp = remove_single_characters(temp)\n",
    "temp = lowercase(temp)\n",
    "df['question1'] = temp\n",
    "\n",
    "# Converting data for question2 column\n",
    "temp = basic_preprocessor(df['question2'])\n",
    "temp = remove_stopwords_punctuations(temp, stopwords, punctuation)\n",
    "temp = post_processing(temp)\n",
    "temp = remove_single_characters(temp)\n",
    "temp = lowercase(temp)\n",
    "df['question2'] = temp"
   ]
  },
  {
   "cell_type": "code",
   "execution_count": 83,
   "id": "c1145d59",
   "metadata": {},
   "outputs": [
    {
     "data": {
      "text/html": [
       "<div>\n",
       "<style scoped>\n",
       "    .dataframe tbody tr th:only-of-type {\n",
       "        vertical-align: middle;\n",
       "    }\n",
       "\n",
       "    .dataframe tbody tr th {\n",
       "        vertical-align: top;\n",
       "    }\n",
       "\n",
       "    .dataframe thead th {\n",
       "        text-align: right;\n",
       "    }\n",
       "</style>\n",
       "<table border=\"1\" class=\"dataframe\">\n",
       "  <thead>\n",
       "    <tr style=\"text-align: right;\">\n",
       "      <th></th>\n",
       "      <th>q1id</th>\n",
       "      <th>q2id</th>\n",
       "      <th>question1</th>\n",
       "      <th>question2</th>\n",
       "      <th>q1_topics</th>\n",
       "      <th>q2_topics</th>\n",
       "      <th>target</th>\n",
       "    </tr>\n",
       "  </thead>\n",
       "  <tbody>\n",
       "    <tr>\n",
       "      <th>0</th>\n",
       "      <td>88</td>\n",
       "      <td>1019</td>\n",
       "      <td>you given two integer arrays nums nums sorted ...</td>\n",
       "      <td>given integer array nums sorted nondecreasing ...</td>\n",
       "      <td>Array,Two Pointers,Sorting</td>\n",
       "      <td>Array,Two Pointers,Sorting</td>\n",
       "      <td>1</td>\n",
       "    </tr>\n",
       "    <tr>\n",
       "      <th>1</th>\n",
       "      <td>724</td>\n",
       "      <td>2102</td>\n",
       "      <td>given array integers nums calculate pivot inde...</td>\n",
       "      <td>given indexed integer array nums find leftmost...</td>\n",
       "      <td>Array,Prefix Sum</td>\n",
       "      <td>Array,Prefix Sum</td>\n",
       "      <td>1</td>\n",
       "    </tr>\n",
       "    <tr>\n",
       "      <th>2</th>\n",
       "      <td>967</td>\n",
       "      <td>1022</td>\n",
       "      <td>given array integers matrix return minimum sum...</td>\n",
       "      <td>you given integer array grid grid could repres...</td>\n",
       "      <td>Array,Dynamic Programming,Matrix</td>\n",
       "      <td>Array,Backtracking,Bit Manipulation,Matrix</td>\n",
       "      <td>0</td>\n",
       "    </tr>\n",
       "    <tr>\n",
       "      <th>3</th>\n",
       "      <td>300</td>\n",
       "      <td>673</td>\n",
       "      <td>given integer array nums return length longest...</td>\n",
       "      <td>given integer array nums return number longest...</td>\n",
       "      <td>Array,Binary Search,Dynamic Programming</td>\n",
       "      <td>Array,Dynamic Programming,Binary Indexed Tree,...</td>\n",
       "      <td>1</td>\n",
       "    </tr>\n",
       "    <tr>\n",
       "      <th>4</th>\n",
       "      <td>2280</td>\n",
       "      <td>334</td>\n",
       "      <td>you given two indexed arrays nums nums length ...</td>\n",
       "      <td>given integer array nums return true exists tr...</td>\n",
       "      <td>Array,Binary Search,Divide and Conquer,Binary ...</td>\n",
       "      <td>Array,Greedy</td>\n",
       "      <td>1</td>\n",
       "    </tr>\n",
       "    <tr>\n",
       "      <th>...</th>\n",
       "      <td>...</td>\n",
       "      <td>...</td>\n",
       "      <td>...</td>\n",
       "      <td>...</td>\n",
       "      <td>...</td>\n",
       "      <td>...</td>\n",
       "      <td>...</td>\n",
       "    </tr>\n",
       "    <tr>\n",
       "      <th>3147</th>\n",
       "      <td>462</td>\n",
       "      <td>453</td>\n",
       "      <td>given integer array nums size return minimum n...</td>\n",
       "      <td>given integer array nums size return minimum n...</td>\n",
       "      <td>Array,Math,Sorting</td>\n",
       "      <td>Array,Math</td>\n",
       "      <td>1</td>\n",
       "    </tr>\n",
       "    <tr>\n",
       "      <th>3148</th>\n",
       "      <td>2076</td>\n",
       "      <td>258</td>\n",
       "      <td>you given string consisting lowercase english ...</td>\n",
       "      <td>given integer num repeatedly add digits result...</td>\n",
       "      <td>String,Simulation</td>\n",
       "      <td>Math,Simulation,Number Theory</td>\n",
       "      <td>1</td>\n",
       "    </tr>\n",
       "    <tr>\n",
       "      <th>3149</th>\n",
       "      <td>1008</td>\n",
       "      <td>162</td>\n",
       "      <td>you given root binary tree we install cameras ...</td>\n",
       "      <td>peak element element strictly greater neighbor...</td>\n",
       "      <td>Dynamic Programming,Tree,Depth-First Search,Bi...</td>\n",
       "      <td>Array,Binary Search</td>\n",
       "      <td>0</td>\n",
       "    </tr>\n",
       "    <tr>\n",
       "      <th>3150</th>\n",
       "      <td>2216</td>\n",
       "      <td>143</td>\n",
       "      <td>you given head linked list delete middle node ...</td>\n",
       "      <td>you given head singly linkedlist the list repr...</td>\n",
       "      <td>Linked List,Two Pointers</td>\n",
       "      <td>Linked List,Two Pointers,Stack,Recursion</td>\n",
       "      <td>1</td>\n",
       "    </tr>\n",
       "    <tr>\n",
       "      <th>3151</th>\n",
       "      <td>437</td>\n",
       "      <td>1986</td>\n",
       "      <td>given root binary tree integer targetsum retur...</td>\n",
       "      <td>there directed graph colored nodes edges the n...</td>\n",
       "      <td>Tree,Depth-First Search,Binary Tree</td>\n",
       "      <td>Hash Table,Dynamic Programming,Graph,Topologic...</td>\n",
       "      <td>0</td>\n",
       "    </tr>\n",
       "  </tbody>\n",
       "</table>\n",
       "<p>3152 rows × 7 columns</p>\n",
       "</div>"
      ],
      "text/plain": [
       "      q1id  q2id                                          question1  \\\n",
       "0       88  1019  you given two integer arrays nums nums sorted ...   \n",
       "1      724  2102  given array integers nums calculate pivot inde...   \n",
       "2      967  1022  given array integers matrix return minimum sum...   \n",
       "3      300   673  given integer array nums return length longest...   \n",
       "4     2280   334  you given two indexed arrays nums nums length ...   \n",
       "...    ...   ...                                                ...   \n",
       "3147   462   453  given integer array nums size return minimum n...   \n",
       "3148  2076   258  you given string consisting lowercase english ...   \n",
       "3149  1008   162  you given root binary tree we install cameras ...   \n",
       "3150  2216   143  you given head linked list delete middle node ...   \n",
       "3151   437  1986  given root binary tree integer targetsum retur...   \n",
       "\n",
       "                                              question2  \\\n",
       "0     given integer array nums sorted nondecreasing ...   \n",
       "1     given indexed integer array nums find leftmost...   \n",
       "2     you given integer array grid grid could repres...   \n",
       "3     given integer array nums return number longest...   \n",
       "4     given integer array nums return true exists tr...   \n",
       "...                                                 ...   \n",
       "3147  given integer array nums size return minimum n...   \n",
       "3148  given integer num repeatedly add digits result...   \n",
       "3149  peak element element strictly greater neighbor...   \n",
       "3150  you given head singly linkedlist the list repr...   \n",
       "3151  there directed graph colored nodes edges the n...   \n",
       "\n",
       "                                              q1_topics  \\\n",
       "0                            Array,Two Pointers,Sorting   \n",
       "1                                      Array,Prefix Sum   \n",
       "2                      Array,Dynamic Programming,Matrix   \n",
       "3               Array,Binary Search,Dynamic Programming   \n",
       "4     Array,Binary Search,Divide and Conquer,Binary ...   \n",
       "...                                                 ...   \n",
       "3147                                 Array,Math,Sorting   \n",
       "3148                                  String,Simulation   \n",
       "3149  Dynamic Programming,Tree,Depth-First Search,Bi...   \n",
       "3150                           Linked List,Two Pointers   \n",
       "3151                Tree,Depth-First Search,Binary Tree   \n",
       "\n",
       "                                              q2_topics  target  \n",
       "0                            Array,Two Pointers,Sorting       1  \n",
       "1                                      Array,Prefix Sum       1  \n",
       "2            Array,Backtracking,Bit Manipulation,Matrix       0  \n",
       "3     Array,Dynamic Programming,Binary Indexed Tree,...       1  \n",
       "4                                          Array,Greedy       1  \n",
       "...                                                 ...     ...  \n",
       "3147                                         Array,Math       1  \n",
       "3148                      Math,Simulation,Number Theory       1  \n",
       "3149                                Array,Binary Search       0  \n",
       "3150           Linked List,Two Pointers,Stack,Recursion       1  \n",
       "3151  Hash Table,Dynamic Programming,Graph,Topologic...       0  \n",
       "\n",
       "[3152 rows x 7 columns]"
      ]
     },
     "execution_count": 83,
     "metadata": {},
     "output_type": "execute_result"
    }
   ],
   "source": [
    "df"
   ]
  },
  {
   "cell_type": "markdown",
   "id": "6220aa25",
   "metadata": {},
   "source": [
    "## Feature Engineering"
   ]
  },
  {
   "cell_type": "code",
   "execution_count": 8,
   "id": "f6ca77f7",
   "metadata": {},
   "outputs": [],
   "source": [
    "# Feature Engineering : \n",
    "\n",
    "# Here i have pointed out a bunch of possible features i can think of, There can be many more like this \n",
    "# But as of now i am using only these because of time constraints\n",
    "\n",
    "# Topic Features\n",
    "# 1. topic_intersection_ratio - topic intersection ratio\n",
    "# 2. topic_symmetric_difference - symmetric difference between topics of question 1 and question 2\n",
    "# 3. n_topics_q1 = number of topics in question 1\n",
    "# 4. n_topics_q2 = number of topics in question 2\n",
    "\n",
    "# Question feature\n",
    "# 1. q1_length - Length of question 1\n",
    "# 2. q2_length - Length of question 2\n",
    "# 3. n_words_q1 - Number of words in q1\n",
    "# 4. n_words_q2 - Number of words in q2\n",
    "# 5. n_common_words - Number of common unique words\n",
    "# 6. common_word_ratio - word Share ratio\n",
    "# 7. avg_token_length - average token lengths of both questions - q1Tokens and q2Tokens\n",
    "# 8. Fuzz ratio\n",
    "# 9. Fuzz partial ratio\n",
    "# 10. token sort ratio\n",
    "# 11. token set ratio\n",
    "# 12. longest substring ratio"
   ]
  },
  {
   "cell_type": "code",
   "execution_count": 84,
   "id": "a90031aa",
   "metadata": {},
   "outputs": [],
   "source": [
    "# Feature engineering on Topics \n",
    "\n",
    "# First convert topics to sets:\n",
    "df['q1_topics'] = list(map(lambda x: set(x.split(',')), df['q1_topics']))\n",
    "df['q2_topics'] = list(map(lambda x: set(x.split(',')), df['q2_topics']))\n",
    "\n",
    "# 1. topic_intersection_ratio - topic intersection ratio\n",
    "df['topic_intersection_ratio'] = list(map(lambda x, y: len(x.intersection(y))/len(x.union(y)), df['q1_topics'], df['q2_topics']))\n",
    "\n",
    "# 2. topic_symmetric_difference - symmetric difference between topics of question 1 and question 2\n",
    "df['topic_symmetric_diff'] = list(map(lambda x, y: len(x.symmetric_difference(y)), df['q1_topics'], df['q2_topics']))\n",
    "\n",
    "# 3. n_topics_q1 = number of topics in question 1\n",
    "df['n_topics_q1'] = list(map(lambda x: len(x), df['q1_topics']))\n",
    "\n",
    "# 4. n_topics_q2 = number of topics in question 2\n",
    "df['n_topics_q2'] = list(map(lambda x: len(x), df['q2_topics']))"
   ]
  },
  {
   "cell_type": "code",
   "execution_count": 95,
   "id": "8e6f2aea",
   "metadata": {},
   "outputs": [],
   "source": [
    "# Feature engineering on questions\n",
    "\n",
    "from fuzzywuzzy import fuzz\n",
    "\n",
    "# 1. q1_length - Length of question 1\n",
    "df['q1_length'] = list(map(lambda x: len(x), df['question1']))\n",
    "\n",
    "# 2. q2_length - Length of question 2\n",
    "df['q2_length'] = list(map(lambda x: len(x), df['question2']))\n",
    "\n",
    "# 3. n_words_q1 - Number of words in q1\n",
    "df['n_words_q1'] = list(map(lambda x: len(x.split()), df['question1']))\n",
    "\n",
    "# 4. n_words_q2 - Number of words in q2\n",
    "df['n_words_q2'] = list(map(lambda x: len(x.split()), df['question2']))\n",
    "\n",
    "# 5. n_common_words - Number of common unique words\n",
    "df['n_common_words']=list(map(lambda x,y:len(set(x.split()).intersection(set(y.split()))), \n",
    "                           df['question1'], \n",
    "                           df['question2']))\n",
    "\n",
    "# 6. common_word_ratio - word Share ratio\n",
    "df['common_word_ratio']=list(map(\n",
    "    lambda x,y:len(set(x.split()).intersection(set(y.split())))/len(set(x.split()).union(set(y.split()))), \n",
    "    df['question1'], \n",
    "    df['question2']))\n",
    "\n",
    "# 7. avg_token_length - average token lengths of both questions - q1Tokens and q2Tokens\n",
    "\n",
    "# 8. Fuzz ratio\n",
    "df['fuzz_ratio'] = list(map(lambda x, y: fuzz.ratio(x,y), df['question1'], df['question2']))\n",
    "\n",
    "# 9. Fuzz partial ratio\n",
    "df['fuzz_partial_ratio'] = list(map(lambda x, y: fuzz.partial_ratio(x,y), df['question1'], df['question2']))\n",
    "\n",
    "# 10. token sort ratio\n",
    "df['token_sort_ratio'] = list(map(lambda x, y: fuzz.token_sort_ratio(x,y), df['question1'], df['question2']))\n",
    "\n",
    "# 11. token set ratio\n",
    "df['token_set_ratio'] = list(map(lambda x, y: fuzz.token_set_ratio(x,y), df['question1'], df['question2']))"
   ]
  },
  {
   "cell_type": "code",
   "execution_count": 98,
   "id": "4d01eb2a",
   "metadata": {},
   "outputs": [
    {
     "name": "stdout",
     "output_type": "stream",
     "text": [
      "<class 'pandas.core.frame.DataFrame'>\n",
      "RangeIndex: 3152 entries, 0 to 3151\n",
      "Data columns (total 21 columns):\n",
      " #   Column                    Non-Null Count  Dtype  \n",
      "---  ------                    --------------  -----  \n",
      " 0   q1id                      3152 non-null   int64  \n",
      " 1   q2id                      3152 non-null   int64  \n",
      " 2   question1                 3152 non-null   object \n",
      " 3   question2                 3152 non-null   object \n",
      " 4   q1_topics                 3152 non-null   object \n",
      " 5   q2_topics                 3152 non-null   object \n",
      " 6   target                    3152 non-null   int64  \n",
      " 7   topic_intersection_ratio  3152 non-null   float64\n",
      " 8   topic_symmetric_diff      3152 non-null   int64  \n",
      " 9   n_topics_q1               3152 non-null   int64  \n",
      " 10  n_topics_q2               3152 non-null   int64  \n",
      " 11  q1_length                 3152 non-null   int64  \n",
      " 12  q2_length                 3152 non-null   int64  \n",
      " 13  n_words_q1                3152 non-null   int64  \n",
      " 14  n_words_q2                3152 non-null   int64  \n",
      " 15  n_common_words            3152 non-null   int64  \n",
      " 16  common_word_ratio         3152 non-null   float64\n",
      " 17  fuzz_ratio                3152 non-null   int64  \n",
      " 18  fuzz_partial_ratio        3152 non-null   int64  \n",
      " 19  token_sort_ratio          3152 non-null   int64  \n",
      " 20  token_set_ratio           3152 non-null   int64  \n",
      "dtypes: float64(2), int64(15), object(4)\n",
      "memory usage: 517.2+ KB\n"
     ]
    }
   ],
   "source": [
    "df.info()"
   ]
  },
  {
   "cell_type": "markdown",
   "id": "19f2af20",
   "metadata": {},
   "source": [
    "## Making data ready for the model\n"
   ]
  },
  {
   "cell_type": "code",
   "execution_count": 142,
   "id": "b2fad197",
   "metadata": {},
   "outputs": [
    {
     "name": "stderr",
     "output_type": "stream",
     "text": [
      "100%|████████████████████████████████████████████████████████████████████████████████████| 2/2 [00:00<00:00,  8.91it/s]\n",
      "100%|████████████████████████████████████████████████████████████████████████████████| 14/14 [00:00<00:00, 1398.30it/s]\n"
     ]
    }
   ],
   "source": [
    "# TFIDF on questions\n",
    "from tqdm import tqdm\n",
    "from sklearn.model_selection import train_test_split, GridSearchCV\n",
    "from sklearn.feature_extraction.text import TfidfVectorizer\n",
    "from sklearn.preprocessing import Normalizer, StandardScaler\n",
    "\n",
    "train_test_labels = df['target']\n",
    "train_test_data = df.drop(['q1id','q2id','q1_topics','q2_topics', 'target'], axis=1)\n",
    "\n",
    "xtrain, xtest, ytrain, ytest = train_test_split(train_test_data, train_test_labels, test_size=0.2, stratify=train_test_labels)\n",
    "\n",
    "transformed_train_data = []\n",
    "transformed_test_data = []\n",
    "\n",
    "preprocessors = {}\n",
    "\n",
    "vectorizing_features = ['question1', 'question2']\n",
    "normalizing_features = [\n",
    "    'topic_intersection_ratio',\n",
    "    'topic_symmetric_diff',\n",
    "    'n_topics_q1',\n",
    "    'n_topics_q2',\n",
    "    'q1_length',\n",
    "    'q2_length',\n",
    "    'n_words_q1',\n",
    "    'n_words_q2',\n",
    "    'n_common_words',\n",
    "    'common_word_ratio',\n",
    "    'fuzz_ratio',\n",
    "    'fuzz_partial_ratio',\n",
    "    'token_sort_ratio',\n",
    "    'token_set_ratio'\n",
    "]\n",
    "\n",
    "for feature in tqdm(vectorizing_features):\n",
    "    preprocessors[feature] = TfidfVectorizer(min_df = 5)\n",
    "    transformed_train_data.append(preprocessors[feature].fit_transform(xtrain[feature]))\n",
    "    transformed_test_data.append(preprocessors[feature].transform(xtest[feature]))\n",
    "    \n",
    "for feature in tqdm(normalizing_features):\n",
    "    preprocessors[feature] = StandardScaler()\n",
    "    transformed_train_data.append(preprocessors[feature].fit_transform(np.array(xtrain[feature]).reshape(-1,1)))\n",
    "    transformed_test_data.append(preprocessors[feature].transform(np.array(xtest[feature]).reshape(-1,1)))"
   ]
  },
  {
   "cell_type": "code",
   "execution_count": 143,
   "id": "bd96b2f5",
   "metadata": {},
   "outputs": [
    {
     "name": "stdout",
     "output_type": "stream",
     "text": [
      "Training data shape: (2521, 3477)\n",
      "Testing data shape: (631, 3477)\n"
     ]
    }
   ],
   "source": [
    "from scipy.sparse import hstack\n",
    "from scipy import sparse\n",
    "\n",
    "x_train = hstack(transformed_train_data).tocsr()\n",
    "x_test = hstack(transformed_test_data).tocsr()\n",
    "\n",
    "print(f\"Training data shape: {x_train.shape}\")\n",
    "print(f\"Testing data shape: {x_test.shape}\")"
   ]
  },
  {
   "cell_type": "markdown",
   "id": "ea292a36",
   "metadata": {},
   "source": [
    "# Defining model metric\n",
    "Based on the problem, some of the things that i can point out as of now is <br/> \n",
    "If actually considering it as a functionality for leetcode, We need to be very sure while predicting similar question, Because at the end we need to make predictions for a new question, also, i might need to know, why the model predicted what it predicted, This can be checked using probability and feature importance, Another thing is, This process of making predictions is not done very often, because we do not expect a lot of question being added every minute, hour or in shorter time span, Thus there wont be any latency constraints here, This allows us to use complex models as well which might take some time to make predictions.\n",
    "<br/><br/>\n",
    "Summary:\n",
    "1. As a metric i am selecting log-loss because i would need to know the probability of this similarity\n",
    "2. Another metric for this would be precision and recall, We need to be very sure with the positive data points, Thus confusion matrix, precision, recall, f1 scores will be very helpful to check model performance.\n",
    "3. No latency constraints, (model need not to be very fast, but not very slow as well)\n",
    "4. Because i need the probability as well, i wont be using stacking or ensembling as it is hard to interpret probabilistic output from these complex methods."
   ]
  },
  {
   "cell_type": "markdown",
   "id": "8b79f9a3",
   "metadata": {},
   "source": [
    "## Training Model"
   ]
  },
  {
   "cell_type": "markdown",
   "id": "cb3d714e",
   "metadata": {},
   "source": [
    "### Training random mode to check what is the worst probability score we can get\n",
    "Because i want to know what is the maximum possible log loss which we should not cross, As the range of log loss is 0->infinity, I want to know the upper bound, And based on that we can check how each algorithm improves the log loss scores."
   ]
  },
  {
   "cell_type": "markdown",
   "id": "5691f925",
   "metadata": {},
   "source": [
    "### Training logistic regression (with/without hyperparameter tuning)"
   ]
  },
  {
   "cell_type": "code",
   "execution_count": 144,
   "id": "727500d9",
   "metadata": {},
   "outputs": [
    {
     "name": "stdout",
     "output_type": "stream",
     "text": [
      "Log Loss on Training Data : 0.2540201111463929\n",
      "Log loss on Testing Data : 0.31918524335779674\n"
     ]
    }
   ],
   "source": [
    "## Training baseling model - Naive Bayes - without hyperparameter tuning\n",
    "from sklearn.linear_model import LogisticRegression\n",
    "from sklearn.metrics import log_loss\n",
    "\n",
    "clf = LogisticRegression()\n",
    "clf.fit(x_train, ytrain)\n",
    "print(\"Log Loss on Training Data : {}\".format(log_loss(ytrain, clf.predict_proba(x_train))))\n",
    "print(\"Log loss on Testing Data : {}\".format(log_loss(ytest, clf.predict_proba(x_test))))"
   ]
  },
  {
   "cell_type": "markdown",
   "id": "7ad4d527",
   "metadata": {},
   "source": [
    "## Observations - Logistic Regression\n",
    "The log loss of training and testing data seems to be pretty good, as there isnt very huge difference between the train, test losses. <br/>\n",
    "But let us try to do some hyperparameter tuning with regularization function, and check if performance increases"
   ]
  },
  {
   "cell_type": "code",
   "execution_count": 155,
   "id": "0938e8bb",
   "metadata": {},
   "outputs": [
    {
     "name": "stdout",
     "output_type": "stream",
     "text": [
      "Fitting 10 folds for each of 13 candidates, totalling 130 fits\n"
     ]
    },
    {
     "data": {
      "text/plain": [
       "GridSearchCV(cv=10, estimator=LogisticRegression(),\n",
       "             param_grid={'C': [0.0001, 0.0005, 0.001, 0.005, 0.01, 0.05, 0.1,\n",
       "                               0.5, 1, 5, 10, 50, 100]},\n",
       "             return_train_score=True, scoring=make_scorer(roc_auc_score),\n",
       "             verbose=1)"
      ]
     },
     "execution_count": 155,
     "metadata": {},
     "output_type": "execute_result"
    }
   ],
   "source": [
    "params = {'C':[0.0001, 0.0005, 0.001, 0.005, 0.01, 0.05, 0.1, 0.5, 1, 5, 10, 50, 100]}\n",
    "\n",
    "from sklearn.metrics import make_scorer, roc_auc_score\n",
    "scorer = make_scorer(roc_auc_score)\n",
    "\n",
    "import warnings\n",
    "warnings.filterwarnings('ignore')\n",
    "\n",
    "gscv = GridSearchCV(LogisticRegression(), params, cv = 10, return_train_score=True, scoring = scorer, verbose=1)\n",
    "gscv.fit(x_train, ytrain)"
   ]
  },
  {
   "cell_type": "code",
   "execution_count": 156,
   "id": "cd42a351",
   "metadata": {},
   "outputs": [
    {
     "name": "stdout",
     "output_type": "stream",
     "text": [
      "GSCV RESULTS:\n",
      "Best Parameter: {'C': 0.1}\n",
      "Best Score (AUC): 0.8431503806237849\n"
     ]
    }
   ],
   "source": [
    "print(\"GSCV RESULTS:\")\n",
    "print(\"Best Parameter: {}\".format(gscv.best_params_))\n",
    "print(\"Best Score (AUC): {}\".format(gscv.best_score_))"
   ]
  },
  {
   "cell_type": "code",
   "execution_count": 157,
   "id": "171c4210",
   "metadata": {},
   "outputs": [
    {
     "data": {
      "image/png": "[encoded data removed]",
      "text/plain": [
       "<Figure size 720x360 with 1 Axes>"
      ]
     },
     "metadata": {
      "needs_background": "light"
     },
     "output_type": "display_data"
    }
   ],
   "source": [
    "## Plotting the hyperparameter vs auc score curve to check which parameter gave the best scores for the model\n",
    "\n",
    "import matplotlib.pyplot as plt\n",
    "\n",
    "mean_train_scores = gscv.cv_results_['mean_train_score']\n",
    "mean_cv_scores = gscv.cv_results_['mean_test_score']\n",
    "\n",
    "fig = plt.figure(figsize=(10,5))\n",
    "params_id = np.arange(0, len(params['C']), 1) # Using IDs for x axis\n",
    "plt.plot(params_id, mean_train_scores, label='Training AUC scores')\n",
    "plt.scatter(params_id, mean_train_scores, label='Training AUC Points')\n",
    "plt.plot(params_id, mean_cv_scores, label='CV AUC scores')\n",
    "plt.scatter(params_id, mean_cv_scores, label='CV AUC Points')\n",
    "plt.xticks(params_id, params['C']) # setting xticks labels as the alpha value\n",
    "plt.xlabel('Hyperparameter - C')\n",
    "plt.ylabel('AUC Score')\n",
    "plt.title('Hyperparemeter vs AUC Score')\n",
    "plt.legend()\n",
    "plt.show()"
   ]
  },
  {
   "cell_type": "markdown",
   "id": "4aace113",
   "metadata": {},
   "source": [
    "### Interpreting the plot\n",
    "<b>As per the above plot, we can see that we started to get good auc scores for both training and CV data till the value of C was 0.01 and after that the models seems to start overfitting, as the auc score for training data increases but CV scores start to decrease, There fore i am considering the value of 'C' to be 0.01 here</b><br/>\n",
    "\n",
    "<B>But after testing a bit more with the hyperparameter, i found that C=0.7 gives much more consistent results thus i will be using c = 0.7</B>"
   ]
  },
  {
   "cell_type": "code",
   "execution_count": 185,
   "id": "fd12e424",
   "metadata": {},
   "outputs": [
    {
     "name": "stdout",
     "output_type": "stream",
     "text": [
      "Log Loss on Training Data : 0.3390616388749139\n",
      "Log loss on Testing Data : 0.3136178520022708\n"
     ]
    }
   ],
   "source": [
    "## \n",
    "clf1 = LogisticRegression(C=0.07)\n",
    "clf1.fit(x_train, ytrain)\n",
    "print(\"Log Loss on Training Data : {}\".format(log_loss(ytrain, clf1.predict_proba(x_train))))\n",
    "print(\"Log loss on Testing Data : {}\".format(log_loss(ytest, clf1.predict_proba(x_test))))"
   ]
  },
  {
   "cell_type": "markdown",
   "id": "f7ff71e8",
   "metadata": {},
   "source": [
    "Here we see that the training and testing loss has been increased but there is a smaller difference between the two values, This signifies that the model is much more consistent and generalized, If we see the previous values, Those seems to have a higher difference and models seems slightly overfitted, Thus for avoiding overfitting i am using C as 0.07"
   ]
  },
  {
   "cell_type": "markdown",
   "id": "6d593980",
   "metadata": {},
   "source": [
    "#### we can see that linear models are indeed performing pretty good, so we could have also checked with SVM, but in SVM we dont have any way to predict the probability thus log loss wont be a good metric for this, and as for this task i have selected log loss to be the performance metric, i wont be using SVMs.<br/> But lets go ahead and check the other metrics we defined, and see the results for our Logistic regression model\n"
   ]
  },
  {
   "cell_type": "code",
   "execution_count": 220,
   "id": "9f5ce8b2",
   "metadata": {},
   "outputs": [
    {
     "data": {
      "image/png": "[encoded data removed]",
      "text/plain": [
       "<Figure size 720x360 with 1 Axes>"
      ]
     },
     "metadata": {
      "needs_background": "light"
     },
     "output_type": "display_data"
    }
   ],
   "source": [
    "from sklearn.metrics import roc_curve\n",
    "\n",
    "clf1_preds_probs_train = clf1.predict_proba(x_train)\n",
    "clf1_preds_probs_test = clf1.predict_proba(x_test)\n",
    "\n",
    "fpr_train, tpr_train, thresholds_train = roc_curve(ytrain, clf1_preds_probs_train.T[1], pos_label=1)\n",
    "fpr_test, tpr_test, thresholds_test = roc_curve(ytest, clf1_preds_probs_test.T[1], pos_label=1)\n",
    "\n",
    "# Plotting roc auc curve\n",
    "fig = plt.figure(figsize=(10,5))\n",
    "plt.plot(fpr_train, tpr_train, label = 'Training Score') # Training data\n",
    "plt.plot(fpr_test, tpr_test, label = 'Testing Score') # testing data\n",
    "plt.title('ROC AUC Curve (CountVectorized data)')\n",
    "plt.xlabel('False Positive Rate (FPR)')\n",
    "plt.ylabel('True Positive Rate (TPR)')\n",
    "plt.grid(color='#adadad', linestyle= '--')\n",
    "plt.legend()\n",
    "plt.show()"
   ]
  },
  {
   "cell_type": "markdown",
   "id": "68a5e8b3",
   "metadata": {},
   "source": [
    "#### from the curve, it is very clear that the model is indeed performing pretty good on the testing data, But here we want to maximize the True positive rate and minimize the False Positive rate thus, Let us select a metric that help us do so.<br/>But before that let us go ahead and plot the confusion matrix for train and test data and check the results, Then we can go ahead and find the optimal threshold"
   ]
  },
  {
   "cell_type": "code",
   "execution_count": 194,
   "id": "ef759c35",
   "metadata": {},
   "outputs": [
    {
     "data": {
      "image/png": "[encoded data removed]",
      "text/plain": [
       "<Figure size 1008x360 with 4 Axes>"
      ]
     },
     "metadata": {
      "needs_background": "light"
     },
     "output_type": "display_data"
    }
   ],
   "source": [
    "from sklearn.metrics import confusion_matrix, ConfusionMatrixDisplay\n",
    "\n",
    "import seaborn as sns\n",
    "\n",
    "cls_preds_clf1_train = clf1.predict(x_train)\n",
    "cls_preds_clf1_test = clf1.predict(x_test)\n",
    "\n",
    "# Plotting confusion matrix using ConfusionMatrixDisplay from sklearn\n",
    "\n",
    "cm_train = ConfusionMatrixDisplay(confusion_matrix(ytrain, cls_preds_clf1_train))\n",
    "cm_test = ConfusionMatrixDisplay(confusion_matrix(ytest, cls_preds_clf1_test))\n",
    "\n",
    "fig = plt.figure(figsize=(14,5)) # Creating figure to hold subplots\n",
    "fig.suptitle(\"Confusion Matrix, Default Threshold = 0.5\")\n",
    "ax_train = fig.add_subplot(1,2,1) # Defining second subplot and obtaining axis \n",
    "cm_train.plot(ax=ax_train) # Plotting the Confusion matrix for training data on axis 1\n",
    "plt.title('Confusion Matrix - Training data')\n",
    "\n",
    "ax_test = fig.add_subplot(1,2,2) # Defining second subplot and obtaining axis \n",
    "cm_test.plot(ax=ax_test) # Plotting the confusion matrix for testing data on axis 2\n",
    "plt.title('Confusion Matrix - Test data')\n",
    "\n",
    "plt.show()"
   ]
  },
  {
   "cell_type": "markdown",
   "id": "0d8a25fd",
   "metadata": {},
   "source": [
    "#### The confusion matrix does seem ok for the model, We do have low false positive and false Negative rate which is pretty good"
   ]
  },
  {
   "cell_type": "markdown",
   "id": "e300cfdc",
   "metadata": {},
   "source": [
    "#### Finding the optimal threshold - TPR(1-FPR)"
   ]
  },
  {
   "cell_type": "code",
   "execution_count": 198,
   "id": "422bdde3",
   "metadata": {},
   "outputs": [
    {
     "name": "stdout",
     "output_type": "stream",
     "text": [
      "Best threshold obtained as per defined metric : 0.5968486160414446\n"
     ]
    }
   ],
   "source": [
    "metric = tpr_train*(1-fpr_train)\n",
    "best_threshold_index = np.where(metric == max(metric)) # Index of best Threshold\n",
    "best_threshold = thresholds_train[best_threshold_index[0][0]]\n",
    "print(\"Best threshold obtained as per defined metric : {}\".format(best_threshold))"
   ]
  },
  {
   "cell_type": "markdown",
   "id": "9e86a040",
   "metadata": {},
   "source": [
    "#### Now lets check if it improves our confusion matrix"
   ]
  },
  {
   "cell_type": "code",
   "execution_count": 207,
   "id": "0c35b53c",
   "metadata": {},
   "outputs": [
    {
     "data": {
      "image/png": "[encoded data removed]",
      "text/plain": [
       "<Figure size 1008x360 with 4 Axes>"
      ]
     },
     "metadata": {
      "needs_background": "light"
     },
     "output_type": "display_data"
    }
   ],
   "source": [
    "# Making predictions based on obtained threshold\n",
    "\n",
    "cls_probs_train_bst_thres = clf1.predict_proba(x_train)\n",
    "cls_probs_test_bst_thres = clf1.predict_proba(x_test)\n",
    "\n",
    "cls_preds_bst_thres_train = [1 if i >= best_threshold else 0 for i in cls_probs_train_bst_thres.T[1]]\n",
    "cls_preds_bst_thres_test = [1 if i >= best_threshold else 0 for i in cls_probs_test_bst_thres.T[1]]\n",
    "\n",
    "# Plotting the confusion matrix again\n",
    "cm_train = ConfusionMatrixDisplay(confusion_matrix(ytrain, cls_preds_bst_thres_train))\n",
    "cm_test = ConfusionMatrixDisplay(confusion_matrix(ytest, cls_preds_bst_thres_test))\n",
    "\n",
    "fig = plt.figure(figsize=(14,5)) # Creating figure to hold subplots\n",
    "fig.suptitle(\"Confusion Matrix, Threshold = {}\".format(best_threshold))\n",
    "\n",
    "ax_train = fig.add_subplot(1,2,1) # Defining second subplot and obtaining axis \n",
    "cm_train.plot(ax=ax_train) # Plotting the Confusion matrix for training data on axis 1\n",
    "plt.title('Confusion Matrix - Training data')\n",
    "\n",
    "ax_test = fig.add_subplot(1,2,2) # Defining second subplot and obtaining axis \n",
    "cm_test.plot(ax=ax_test) # Plotting the confusion matrix for testing data on axis 2\n",
    "plt.title('Confusion Matrix - Test data')\n",
    "\n",
    "plt.show()"
   ]
  },
  {
   "cell_type": "markdown",
   "id": "72a231c5",
   "metadata": {},
   "source": [
    "#### As seen in the ROC AUC curve, for an increase in TPR we will get an increase in FPR as well, But still model performs well for this threshold, so we will keep it for now. <br/><br/>Lets check other scores as well and decide which threshold to choose"
   ]
  },
  {
   "cell_type": "markdown",
   "id": "24a2a277",
   "metadata": {},
   "source": [
    "# Summary table"
   ]
  },
  {
   "cell_type": "code",
   "execution_count": 219,
   "id": "c39d8cd8",
   "metadata": {},
   "outputs": [
    {
     "name": "stdout",
     "output_type": "stream",
     "text": [
      "+-----------+-----------+--------------------+--------------------+\n",
      "|   Metric  | Threshold |   Training Score   |   Testing Score    |\n",
      "+-----------+-----------+--------------------+--------------------+\n",
      "|  Log-Loss |    0,5    | 0.3390616388749139 | 0.3136178520022708 |\n",
      "|  Log-Loss |   0.597   | 0.3390616388749139 | 0.3136178520022708 |\n",
      "| Precision |    0.5    | 0.8773861967694567 | 0.8888888888888888 |\n",
      "| Precision |   0.597   | 0.9181523500810372 | 0.9163987138263665 |\n",
      "|   Recall  |    0.5    | 0.8511396011396012 | 0.8433048433048433 |\n",
      "|   Recall  |   0.597   | 0.8069800569800569 | 0.811965811965812  |\n",
      "|     F1    |    0.5    | 0.8640636297903109 | 0.8654970760233919 |\n",
      "|     F1    |   0.597   | 0.8589840788476119 | 0.8610271903323262 |\n",
      "|  Accuracy |    0.5    | 0.8508528361761206 | 0.8541996830427893 |\n",
      "|  Accuracy |   0.597   | 0.8524395081316938 | 0.8541996830427893 |\n",
      "+-----------+-----------+--------------------+--------------------+\n"
     ]
    }
   ],
   "source": [
    "from sklearn.metrics import precision_score, recall_score, f1_score, accuracy_score\n",
    "\n",
    "from prettytable import PrettyTable\n",
    "x = PrettyTable()\n",
    "x.field_names = ['Metric', 'Threshold', 'Training Score', 'Testing Score']\n",
    "\n",
    "# Log Loss\n",
    "x.add_row(['Log-Loss', '0,5', log_loss(ytrain, clf1_preds_probs_train.T[1]), log_loss(ytest, clf1_preds_probs_test.T[1])])\n",
    "x.add_row(['Log-Loss', '{:.3f}'.format(best_threshold), log_loss(ytrain, cls_probs_train_bst_thres.T[1]), log_loss(ytest, cls_probs_test_bst_thres.T[1])])\n",
    "\n",
    "# Precision \n",
    "x.add_row(['Precision', '0.5', precision_score(ytrain, cls_preds_clf1_train), precision_score(ytest, cls_preds_clf1_test)])\n",
    "x.add_row(['Precision', '{:.3f}'.format(best_threshold), precision_score(ytrain, cls_preds_bst_thres_train), precision_score(ytest, cls_preds_bst_thres_test)])\n",
    "\n",
    "# Recall\n",
    "x.add_row(['Recall', '0.5', recall_score(ytrain, cls_preds_clf1_train), recall_score(ytest, cls_preds_clf1_test)])\n",
    "x.add_row(['Recall', '{:.3f}'.format(best_threshold), recall_score(ytrain, cls_preds_bst_thres_train), recall_score(ytest, cls_preds_bst_thres_test)])\n",
    "\n",
    "# F1 Score\n",
    "x.add_row(['F1', '0.5', f1_score(ytrain, cls_preds_clf1_train), f1_score(ytest, cls_preds_clf1_test)])\n",
    "x.add_row(['F1', '{:.3f}'.format(best_threshold), f1_score(ytrain, cls_preds_bst_thres_train), f1_score(ytest, cls_preds_bst_thres_test)])\n",
    "\n",
    "# Accuracy\n",
    "x.add_row(['Accuracy', '0.5', accuracy_score(ytrain, cls_preds_clf1_train), accuracy_score(ytest, cls_preds_clf1_test)])\n",
    "x.add_row(['Accuracy', '{:.3f}'.format(best_threshold), accuracy_score(ytrain, cls_preds_bst_thres_train), accuracy_score(ytest, cls_preds_bst_thres_test)])\n",
    "\n",
    "\n",
    "# Printing the data\n",
    "print(x)"
   ]
  },
  {
   "cell_type": "markdown",
   "id": "480862a0",
   "metadata": {},
   "source": [
    "### Observations:\n",
    "Based on the above table it is pretty clear that - \n",
    "1. Precision is more for chosen threshold than the default threshold\n",
    "2. Recall is less for chosed threshold than the default threshold'\n",
    "3. F1 score is more for default threshold\n",
    "4. accuracies are very very similar in both the cases\n",
    "5. <b>Scores are very much consistent for training and testing data, Thus it can be said that we were able to achieve a good balance between bias and variance and thus achieving a good bias-variance tradeoff</b>\n",
    "\n",
    "Therefore based on above data, currently i want to balance out the precision and recall and i am not prioritising one over another therefore i am chosing f1 score for now, But this can change as per business requirement.<br/><br/>\n",
    "\n",
    "<b>Thus the final model that we will be using is the Logistic regression model with hyperparameter(C) value as 0.7 and default threshold for making final predictions</b>"
   ]
  },
  {
   "cell_type": "markdown",
   "id": "8ff1e685",
   "metadata": {},
   "source": [
    "### Extra points (some things that might work):\n",
    "1. I did experiment with other models as well but logistic tends to give the best result among all of them, although i did not get time to test with each and every model, but this score might be increased by using some ensembling approach, but we will lose interpretability in that case.\n",
    "2. I performed very basic amount of feature engineering, Searching some possible features over the internet for string matching and other use cases, I came with some features on my own, But there could be several other features as well which we could come up with that might increase the score of the model, and increasing the predictive power\n",
    "3. Regarding Preprocessing - i again did very minimal amount of preprocessing due to time constraints, But performance could be increased by doing much more aggressive preprocessing, preserving some more information from the text\n",
    "4. For now i have only used the text and topics features from the dataset, Using other features could help in increasing the model score.\n",
    "5. Also this use case is specific to leetcode, Adding data from other websites could help us create a more generalized model."
   ]
  },
  {
   "cell_type": "code",
   "execution_count": null,
   "id": "6641e6b7",
   "metadata": {},
   "outputs": [],
   "source": []
  }
 ],
 "metadata": {
  "kernelspec": {
   "display_name": "Python 3",
   "language": "python",
   "name": "python3"
  },
  "language_info": {
   "codemirror_mode": {
    "name": "ipython",
    "version": 3
   },
   "file_extension": ".py",
   "mimetype": "text/x-python",
   "name": "python",
   "nbconvert_exporter": "python",
   "pygments_lexer": "ipython3",
   "version": "3.7.0"
  }
 },
 "nbformat": 4,
 "nbformat_minor": 5
}
